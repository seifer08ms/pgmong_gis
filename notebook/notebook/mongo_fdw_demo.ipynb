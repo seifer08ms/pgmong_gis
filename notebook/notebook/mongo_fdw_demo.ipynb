{
 "cells": [
  {
   "cell_type": "markdown",
   "metadata": {},
   "source": [
    "# Simple Demo about MongoDB FDW of PostgreSQL\n",
    "## MongoDB connection in Python"
   ]
  },
  {
   "cell_type": "code",
   "execution_count": 34,
   "metadata": {},
   "outputs": [
    {
     "data": {
      "text/plain": [
       "9999"
      ]
     },
     "execution_count": 34,
     "metadata": {},
     "output_type": "execute_result"
    }
   ],
   "source": [
    "import os\n",
    "import numpy as np\n",
    "from pymongo import MongoClient\n",
    "import datetime\n",
    "from random import randrange\n",
    "from random import randint\n",
    "client =  MongoClient(\"mongodb://mongo:27017\")\n",
    "db = client.testdb\n",
    "db.add_user('test', 'test', roles=[{'role':'readWrite','db':'testdb'}])\n",
    "ds = db.dataset\n",
    "result = ds.delete_many({})\n",
    "ds.insert_many([{'id': i,\n",
    "                 'price':20000 + np.random.normal(0, 0.5, 1)[0],\n",
    "                 'coord_id':randint(1,1000),\n",
    "                 'time': datetime.datetime.strptime(str(datetime.date(randint(2000,2017), randint(1,12),1)), \"%Y-%m-%d\")\n",
    "                } for i in range(1,10**4)]).inserted_ids\n",
    "ds.count()"
   ]
  },
  {
   "cell_type": "markdown",
   "metadata": {},
   "source": [
    "## PostgreSQL connection in Python"
   ]
  },
  {
   "cell_type": "code",
   "execution_count": 35,
   "metadata": {},
   "outputs": [
    {
     "name": "stdout",
     "output_type": "stream",
     "text": [
      "[('addrfeat',), ('spatial_ref_sys',), ('edges',), ('faces',), ('topology',), ('place_lookup',), ('layer',), ('geocode_settings',), ('geocode_settings_default',), ('direction_lookup',), ('secondary_unit_lookup',), ('state_lookup',), ('street_type_lookup',), ('county_lookup',), ('countysub_lookup',), ('zip_lookup_all',), ('zip_lookup_base',), ('zip_lookup',), ('county',), ('state',), ('place',), ('zip_state',), ('zip_state_loc',), ('cousub',), ('featnames',), ('addr',), ('zcta5',), ('loader_platform',), ('loader_variables',), ('loader_lookuptables',), ('tract',), ('tabblock',), ('bg',), ('pagc_gaz',), ('pagc_lex',), ('pagc_rules',)]\n"
     ]
    }
   ],
   "source": [
    "import psycopg2\n",
    "conn = psycopg2.connect(database=\"gis\", user=\"mongo\", password=\"mongotest\", host=\"db\", port=\"5432\")\n",
    "cursor = conn.cursor()\n",
    "cursor.execute(\"select relname from pg_class where relkind='r' and relname !~ '^(pg_|sql_)';\")\n",
    "print(cursor.fetchall() )\n",
    " "
   ]
  },
  {
   "cell_type": "markdown",
   "metadata": {},
   "source": [
    "## Setup mongo_fdw"
   ]
  },
  {
   "cell_type": "code",
   "execution_count": 36,
   "metadata": {},
   "outputs": [
    {
     "ename": "ProgrammingError",
     "evalue": "extension \"mongo_fdw\" already exists\n",
     "output_type": "error",
     "traceback": [
      "\u001b[0;31m\u001b[0m",
      "\u001b[0;31mProgrammingError\u001b[0mTraceback (most recent call last)",
      "\u001b[0;32m<ipython-input-36-9a3b3aeb41d9>\u001b[0m in \u001b[0;36m<module>\u001b[0;34m()\u001b[0m\n\u001b[0;32m----> 1\u001b[0;31m \u001b[0mcursor\u001b[0m\u001b[0;34m.\u001b[0m\u001b[0mexecute\u001b[0m\u001b[0;34m(\u001b[0m\u001b[0;34m\"CREATE EXTENSION mongo_fdw;\"\u001b[0m\u001b[0;34m)\u001b[0m\u001b[0;34m\u001b[0m\u001b[0m\n\u001b[0m\u001b[1;32m      2\u001b[0m \u001b[0mcursor\u001b[0m\u001b[0;34m.\u001b[0m\u001b[0mexecute\u001b[0m\u001b[0;34m(\u001b[0m\u001b[0;34m\"CREATE SERVER mongo_server                FOREIGN DATA WRAPPER mongo_fdw                OPTIONS (address 'mongo', port '27017');\"\u001b[0m\u001b[0;34m)\u001b[0m\u001b[0;34m\u001b[0m\u001b[0m\n\u001b[1;32m      3\u001b[0m \u001b[0mcursor\u001b[0m\u001b[0;34m.\u001b[0m\u001b[0mexecute\u001b[0m\u001b[0;34m(\u001b[0m\u001b[0;34m\"CREATE USER MAPPING FOR postgres SERVER mongo_server OPTIONS (username 'test', password 'test');\"\u001b[0m\u001b[0;34m)\u001b[0m\u001b[0;34m\u001b[0m\u001b[0m\n\u001b[1;32m      4\u001b[0m \u001b[0mcursor\u001b[0m\u001b[0;34m.\u001b[0m\u001b[0mexecute\u001b[0m\u001b[0;34m(\u001b[0m\u001b[0;34m\"CREATE FOREIGN TABLE dataset(                 id int, price real,                 coord_id int,                time timestamptz) SERVER mongo_server                OPTIONS (database 'testdb', collection 'dataset');\"\u001b[0m\u001b[0;34m)\u001b[0m\u001b[0;34m\u001b[0m\u001b[0m\n\u001b[1;32m      5\u001b[0m \u001b[0;34m\u001b[0m\u001b[0m\n",
      "\u001b[0;31mProgrammingError\u001b[0m: extension \"mongo_fdw\" already exists\n"
     ]
    }
   ],
   "source": [
    "cursor.execute(\"CREATE EXTENSION mongo_fdw;\")\n",
    "cursor.execute(\"CREATE SERVER mongo_server \\\n",
    "               FOREIGN DATA WRAPPER mongo_fdw \\\n",
    "               OPTIONS (address 'mongo', port '27017');\")\n",
    "cursor.execute(\"CREATE USER MAPPING FOR postgres SERVER mongo_server OPTIONS (username 'test', password 'test');\")\n",
    "cursor.execute(\"CREATE FOREIGN TABLE dataset( \\\n",
    "                id int, price real, \\\n",
    "                coord_id int,\\\n",
    "                time timestamptz) SERVER mongo_server\\\n",
    "                OPTIONS (database 'testdb', collection 'dataset');\")\n",
    "    \n",
    "cursor.execute(\"SELECT * FROM dataset limit 1;\")\n",
    "print(cursor.fetchall())\n",
    "conn.close()"
   ]
  },
  {
   "cell_type": "code",
   "execution_count": 19,
   "metadata": {},
   "outputs": [
    {
     "name": "stdout",
     "output_type": "stream",
     "text": [
      "{u'_id': ObjectId('593d00cad592b5004cf8ae07'),\n",
      " u'coord_id': 860,\n",
      " u'id': 1,\n",
      " u'price': 20000.522469014984,\n",
      " u'time': datetime.datetime(2010, 10, 1, 0, 0)}\n"
     ]
    }
   ],
   "source": [
    "import pprint\n",
    "pprint.pprint(ds.find_one())"
   ]
  }
 ],
 "metadata": {
  "kernelspec": {
   "display_name": "Python 2",
   "language": "python",
   "name": "python2"
  },
  "language_info": {
   "codemirror_mode": {
    "name": "ipython",
    "version": 2
   },
   "file_extension": ".py",
   "mimetype": "text/x-python",
   "name": "python",
   "nbconvert_exporter": "python",
   "pygments_lexer": "ipython2",
   "version": "2.7.13"
  }
 },
 "nbformat": 4,
 "nbformat_minor": 2
}
