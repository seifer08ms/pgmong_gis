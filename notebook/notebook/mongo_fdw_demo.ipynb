{
 "cells": [
  {
   "cell_type": "markdown",
   "metadata": {},
   "source": [
    "# Simple Demo about MongoDB FDW of PostgreSQL\n",
    "## MongoDB connection in Python"
   ]
  },
  {
   "cell_type": "code",
   "execution_count": 17,
   "metadata": {},
   "outputs": [
    {
     "data": {
      "text/plain": [
       "9999"
      ]
     },
     "execution_count": 17,
     "metadata": {},
     "output_type": "execute_result"
    }
   ],
   "source": [
    "import os\n",
    "import numpy as np\n",
    "from pymongo import MongoClient\n",
    "import datetime\n",
    "from random import randrange\n",
    "from random import randint\n",
    "client =  MongoClient(\"mongodb://mongo:27017\")\n",
    "db = client.primer\n",
    "ds = db.dataset\n",
    "result = ds.delete_many({})\n",
    "ds.insert_many([{'id': i,\n",
    "                 'price':20000 + np.random.normal(0, 0.5, 1)[0],\n",
    "                 'coord_id':randint(1,1000),\n",
    "                 'time': datetime.datetime.strptime(str(datetime.date(randint(2000,2017), randint(1,12),1)), \"%Y-%m-%d\")\n",
    "                } for i in range(1,10**4)]).inserted_ids\n",
    "ds.count()"
   ]
  },
  {
   "cell_type": "markdown",
   "metadata": {},
   "source": [
    "## PostgreSQL connection in Python"
   ]
  },
  {
   "cell_type": "code",
   "execution_count": null,
   "metadata": {},
   "outputs": [],
   "source": [
    "import psycopg2\n",
    "conn = psycopg2.connect(database=\"gis\", user=\"mongo\", password=\"mongotest\", host=\"db\", port=\"5432\")\n",
    "cursor = conn.cursor()\n",
    "cursor.execute(\"select relname from pg_class where relkind='r' and relname !~ '^(pg_|sql_)';\")\n",
    "print(cursor.fetchall() )\n",
    "conn.close() "
   ]
  },
  {
   "cell_type": "code",
   "execution_count": 19,
   "metadata": {},
   "outputs": [
    {
     "name": "stdout",
     "output_type": "stream",
     "text": [
      "{u'_id': ObjectId('593d00cad592b5004cf8ae07'),\n",
      " u'coord_id': 860,\n",
      " u'id': 1,\n",
      " u'price': 20000.522469014984,\n",
      " u'time': datetime.datetime(2010, 10, 1, 0, 0)}\n"
     ]
    }
   ],
   "source": [
    "import pprint\n",
    "pprint.pprint(ds.find_one())"
   ]
  }
 ],
 "metadata": {
  "kernelspec": {
   "display_name": "Python 2",
   "language": "python",
   "name": "python2"
  },
  "language_info": {
   "codemirror_mode": {
    "name": "ipython",
    "version": 2
   },
   "file_extension": ".py",
   "mimetype": "text/x-python",
   "name": "python",
   "nbconvert_exporter": "python",
   "pygments_lexer": "ipython2",
   "version": "2.7.13"
  }
 },
 "nbformat": 4,
 "nbformat_minor": 2
}
